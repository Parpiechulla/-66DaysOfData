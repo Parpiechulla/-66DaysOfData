{
 "cells": [
  {
   "cell_type": "markdown",
   "metadata": {},
   "source": [
    "# Task One: Get Infobox for One Movie "
   ]
  },
  {
   "cell_type": "code",
   "execution_count": 1,
   "metadata": {},
   "outputs": [],
   "source": [
    "import requests \n",
    "import bs4 \n",
    "import lxml "
   ]
  },
  {
   "cell_type": "code",
   "execution_count": null,
   "metadata": {},
   "outputs": [],
   "source": [
    "result = requests.get(\"https://en.wikipedia.org/wiki/Toy_Story_3\")\n",
    "soup = bs4.BeautifulSoup(result.content, \"lxml\")\n",
    "contents = soup.prettify()\n",
    "print(contents)"
   ]
  },
  {
   "cell_type": "code",
   "execution_count": null,
   "metadata": {},
   "outputs": [],
   "source": [
    "box = soup.find(class_=\"infobox vevent\")\n",
    "# print(box.prettify())\n",
    "\n",
    "info_rows = box.find_all(\"tr\")\n",
    "\n",
    "for row in info_rows:\n",
    "    table_data = row.find_all(\"td\")\n",
    "    print(table_data)\n",
    "    \n"
   ]
  },
  {
   "cell_type": "code",
   "execution_count": null,
   "metadata": {},
   "outputs": [],
   "source": [
    "[soup.find_all(\"li\")]"
   ]
  },
  {
   "cell_type": "code",
   "execution_count": 5,
   "metadata": {},
   "outputs": [
    {
     "data": {
      "text/plain": [
       "{'title': 'Toy Story 3',\n",
       " 'Directed by': 'Lee Unkrich',\n",
       " 'Produced by': 'Darla K. Anderson',\n",
       " 'Screenplay by': 'Michael Arndt',\n",
       " 'Story by': ['John Lasseter', 'Andrew Stanton', 'Lee Unkrich'],\n",
       " 'Starring': ['Tom Hanks',\n",
       "  'Tim Allen',\n",
       "  'Joan Cusack',\n",
       "  'Don Rickles',\n",
       "  'Wallace Shawn',\n",
       "  'John Ratzenberger',\n",
       "  'Estelle Harris',\n",
       "  'Blake Clark',\n",
       "  'Jeff Pidgeon',\n",
       "  'Ned Beatty',\n",
       "  'Michael Keaton',\n",
       "  'Jodi Benson',\n",
       "  'John Morris'],\n",
       " 'Music by': 'Randy Newman',\n",
       " 'Cinematography': ['Jeremy Lasky', 'Kim White'],\n",
       " 'Edited by': 'Ken Schretzmann',\n",
       " 'Production company': ['Walt Disney Pictures', 'Pixar Animation Studios'],\n",
       " 'Distributed by': 'Walt Disney StudiosMotion Pictures',\n",
       " 'Release date': ['June 12, 2010 (2010-06-12) (Taormina Film Fest)',\n",
       "  'June 18, 2010 (2010-06-18) (United States)'],\n",
       " 'Running time': '103 minutes[1]',\n",
       " 'Country': 'United States',\n",
       " 'Language': 'English',\n",
       " 'Budget': '$200 million[1]',\n",
       " 'Box office': '$1.067 billion[1]'}"
      ]
     },
     "execution_count": 5,
     "metadata": {},
     "output_type": "execute_result"
    }
   ],
   "source": [
    "def get_row_info(table_data):\n",
    "    if table_data.find(\"ul\"):\n",
    "        for li in table_data.find_all(\"ul\"):\n",
    "            text = [li.get_text().replace(\"\\xa0\", \" \")]\n",
    "            for string in text:\n",
    "                new_text = string.split(\"\\n\")\n",
    "            return new_text\n",
    "    else: \n",
    "        return table_data.get_text().replace(\"\\xa0\", \" \")\n",
    "\n",
    "\n",
    "\n",
    "movie_info = {}\n",
    "for index,row in enumerate(info_rows):\n",
    "        if index == 0:\n",
    "            movie_info[\"title\"] = row.find(\"th\").get_text(\" \", strip=True)\n",
    "        elif index == 1:\n",
    "            pass \n",
    "        else: \n",
    "            table_key = row.find(\"th\").get_text(\" \", strip=True)\n",
    "            table_value = get_row_info(row.find(\"td\"))\n",
    "            movie_info[table_key] = table_value\n",
    "            \n",
    "            \n",
    "            \n",
    "movie_info            "
   ]
  },
  {
   "cell_type": "code",
   "execution_count": null,
   "metadata": {},
   "outputs": [],
   "source": []
  },
  {
   "cell_type": "code",
   "execution_count": null,
   "metadata": {},
   "outputs": [],
   "source": []
  },
  {
   "cell_type": "code",
   "execution_count": null,
   "metadata": {},
   "outputs": [],
   "source": []
  }
 ],
 "metadata": {
  "kernelspec": {
   "display_name": "Python 3",
   "language": "python",
   "name": "python3"
  },
  "language_info": {
   "codemirror_mode": {
    "name": "ipython",
    "version": 3
   },
   "file_extension": ".py",
   "mimetype": "text/x-python",
   "name": "python",
   "nbconvert_exporter": "python",
   "pygments_lexer": "ipython3",
   "version": "3.8.2"
  }
 },
 "nbformat": 4,
 "nbformat_minor": 4
}
